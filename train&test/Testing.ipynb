{
 "cells": [
  {
   "cell_type": "code",
   "execution_count": 1,
   "id": "35e493c3-68dc-4dd6-a470-b9d0c7f6846a",
   "metadata": {},
   "outputs": [],
   "source": [
    "from ultralytics import YOLO\n",
    "import cv2\n",
    "import re"
   ]
  },
  {
   "cell_type": "code",
   "execution_count": 2,
   "id": "79e513d8-75a9-444b-86d1-3818e7565298",
   "metadata": {},
   "outputs": [
    {
     "name": "stdout",
     "output_type": "stream",
     "text": [
      "\n",
      "image 1/1 C:\\Users\\Rauf\\Desktop\\Project\\Train\\YOLO\\2.jpg: 160x640 1 1, 2 fives, 1 four, 1 kabul, 1 nine, 1 one, 1 shin, 2 sixs, 534.6ms\n",
      "Speed: 10.9ms preprocess, 534.6ms inference, 2929.3ms postprocess per image at shape (1, 3, 160, 640)\n"
     ]
    },
    {
     "data": {
      "text/plain": [
       "[ultralytics.engine.results.Results object with attributes:\n",
       " \n",
       " boxes: ultralytics.engine.results.Boxes object\n",
       " keypoints: None\n",
       " masks: None\n",
       " names: {0: '1', 1: '2', 2: '3', 3: '4', 4: '5', 5: '6', 6: '7', 7: '8', 8: '9', 9: 'B', 10: 'BLH', 11: 'DUPL', 12: 'GZN', 13: 'HRT', 14: 'KBL', 15: 'L', 16: 'NGR', 17: 'PRV', 18: 'T', 19: 'ba', 20: 'balkh', 21: 'eight', 22: 'five', 23: 'four', 24: 'ghazni', 25: 'herat', 26: 'kabul', 27: 'lam', 28: 'mowaqat', 29: 'nengarhar', 30: 'nine', 31: 'one', 32: 'seven', 33: 'sh', 34: 'shin', 35: 'six', 36: 'sticker', 37: 'ta', 38: 'three', 39: 'two'}\n",
       " obb: None\n",
       " orig_img: array([[[137, 132, 131],\n",
       "         [127, 122, 121],\n",
       "         [121, 116, 113],\n",
       "         ...,\n",
       "         [ 56,  46,  46],\n",
       "         [ 64,  54,  54],\n",
       "         [ 72,  62,  62]],\n",
       " \n",
       "        [[ 96,  91,  90],\n",
       "         [ 90,  85,  84],\n",
       "         [ 78,  73,  72],\n",
       "         ...,\n",
       "         [ 57,  47,  47],\n",
       "         [ 66,  56,  56],\n",
       "         [ 72,  62,  62]],\n",
       " \n",
       "        [[ 46,  41,  42],\n",
       "         [ 57,  53,  52],\n",
       "         [ 30,  25,  24],\n",
       "         ...,\n",
       "         [ 46,  34,  32],\n",
       "         [ 59,  50,  47],\n",
       "         [ 65,  56,  53]],\n",
       " \n",
       "        ...,\n",
       " \n",
       "        [[ 58,  45,  43],\n",
       "         [ 65,  52,  50],\n",
       "         [ 60,  46,  47],\n",
       "         ...,\n",
       "         [ 72,  53,  45],\n",
       "         [ 69,  50,  42],\n",
       "         [ 50,  31,  23]],\n",
       " \n",
       "        [[ 60,  47,  45],\n",
       "         [ 64,  51,  49],\n",
       "         [ 67,  53,  54],\n",
       "         ...,\n",
       "         [ 72,  53,  45],\n",
       "         [ 68,  49,  41],\n",
       "         [ 52,  33,  25]],\n",
       " \n",
       "        [[ 64,  51,  49],\n",
       "         [ 67,  54,  52],\n",
       "         [ 74,  60,  61],\n",
       "         ...,\n",
       "         [ 72,  53,  45],\n",
       "         [ 65,  46,  38],\n",
       "         [ 50,  31,  23]]], dtype=uint8)\n",
       " orig_shape: (101, 502)\n",
       " path: 'C:\\\\Users\\\\Rauf\\\\Desktop\\\\Project\\\\Train\\\\YOLO\\\\2.jpg'\n",
       " probs: None\n",
       " save_dir: 'runs\\\\detect\\\\predict5'\n",
       " speed: {'preprocess': 10.938644409179688, 'inference': 534.5838069915771, 'postprocess': 2929.2633533477783}]"
      ]
     },
     "execution_count": 2,
     "metadata": {},
     "output_type": "execute_result"
    }
   ],
   "source": [
    "\n",
    "# Load a pretrained YOLOv8n model\n",
    "model = YOLO('model/CNN.pt')\n",
    "\n",
    "# Run inference on 'bus.jpg' with arguments\n",
    "model.predict('2.jpg', conf=0.1)\n"
   ]
  },
  {
   "cell_type": "markdown",
   "id": "474b0f6b-6497-4199-8f81-4953cacd7611",
   "metadata": {},
   "source": [
    "# Dari or English\n"
   ]
  },
  {
   "cell_type": "code",
   "execution_count": 21,
   "id": "bfd4ae89-8134-4a94-9d34-739f5ca685b8",
   "metadata": {},
   "outputs": [
    {
     "name": "stdout",
     "output_type": "stream",
     "text": [
      "\n",
      "image 1/1 C:\\Users\\Rauf\\Desktop\\Project\\Train\\YOLO\\11.jpg: 320x640 1 6, 3 8s, 1 9, 1 KBL, 1 PRV, 3 eights, 1 kabul, 1 nine, 1 shin, 2 sixs, 1 three, 669.3ms\n",
      "Speed: 3.9ms preprocess, 669.3ms inference, 3.3ms postprocess per image at shape (1, 3, 320, 640)\n"
     ]
    }
   ],
   "source": [
    "\n",
    "# Load a pretrained YOLOv8n-seg Segment model\n",
    "model = YOLO('model/CNN.pt')\n",
    "\n",
    "# Run inference on an image\n",
    "results = model.predict(\"11.jpg\")\n"
   ]
  },
  {
   "cell_type": "code",
   "execution_count": 22,
   "id": "0674867f-6a9e-403a-97c6-d3a5bbeb8812",
   "metadata": {},
   "outputs": [
    {
     "data": {
      "text/plain": [
       "16"
      ]
     },
     "execution_count": 22,
     "metadata": {},
     "output_type": "execute_result"
    }
   ],
   "source": [
    "len(result.boxes)"
   ]
  },
  {
   "cell_type": "code",
   "execution_count": 23,
   "id": "12f6aa5b-845f-4b58-ac08-d3b66c85665d",
   "metadata": {},
   "outputs": [
    {
     "name": "stdout",
     "output_type": "stream",
     "text": [
      "{0: '1', 1: '2', 2: '3', 3: '4', 4: '5', 5: '6', 6: '7', 7: '8', 8: '9', 9: 'B', 10: 'BLH', 11: 'DUPL', 12: 'GZN', 13: 'HRT', 14: 'KBL', 15: 'L', 16: 'NGR', 17: 'PRV', 18: 'T', 19: 'ba', 20: 'balkh', 21: 'eight', 22: 'five', 23: 'four', 24: 'ghazni', 25: 'herat', 26: 'kabul', 27: 'lam', 28: 'mowaqat', 29: 'nengarhar', 30: 'nine', 31: 'one', 32: 'seven', 33: 'sh', 34: 'shin', 35: 'six', 36: 'sticker', 37: 'ta', 38: 'three', 39: 'two'}\n"
     ]
    }
   ],
   "source": [
    "print(result.names)"
   ]
  },
  {
   "cell_type": "code",
   "execution_count": 24,
   "id": "ca34d1c2-a9a2-406f-8551-ddf3304743b5",
   "metadata": {},
   "outputs": [
    {
     "name": "stdout",
     "output_type": "stream",
     "text": [
      "کابل\n"
     ]
    }
   ],
   "source": [
    "def translate_class_label(class_label):\n",
    "    translation_dict = {\n",
    "        '1': '1',\n",
    "        '2': '2',\n",
    "        '3': '3',\n",
    "        '4': '4',\n",
    "        '5': '5',\n",
    "        '6': '6',\n",
    "        '7': '7',\n",
    "        '8': '8',\n",
    "        '9': '9',\n",
    "        'B': 'B',\n",
    "        'BLH': 'BLH',\n",
    "        'DUPL': 'DUPL',\n",
    "        'GZN': 'GZN',\n",
    "        'HRT': 'HRT',\n",
    "        'KBL': 'KBL',\n",
    "        'L': 'L',\n",
    "        'NGR': 'NGR',\n",
    "        'PRV': 'PRV',\n",
    "        'T': 'T',\n",
    "        'ba': 'ب',\n",
    "        'balkh': 'بلخ',\n",
    "        'eight': '۸',\n",
    "        'five': '۵',\n",
    "        'four': '۴',\n",
    "        'ghazni': 'غزنی',\n",
    "        'herat': 'هرات',\n",
    "        'kabul': 'کابل',\n",
    "        'lam': 'ل',\n",
    "        'mowaqat': 'موقت',\n",
    "        'nengarhar': 'ننگرهار',\n",
    "        'nine': '۹',\n",
    "        'one': '۱',\n",
    "        'seven': '۷',\n",
    "        'sh': 'PRV',\n",
    "        'shin': 'ش',\n",
    "        'six': '۶',\n",
    "        'sticker': 'استکر',\n",
    "        'ta': 'ت',\n",
    "        'three': '۳',\n",
    "        'two': '۲'\n",
    "    }\n",
    "\n",
    "    return translation_dict.get(class_label, \"\")\n",
    "\n",
    "# Example usage:\n",
    "class_label = 'kabul'\n",
    "translated_value = translate_class_label(class_label)\n",
    "print(translated_value)  # This will print '1'\n"
   ]
  },
  {
   "cell_type": "code",
   "execution_count": 25,
   "id": "50767dea-c7ac-41a8-96e8-56f9bdb50112",
   "metadata": {},
   "outputs": [
    {
     "name": "stdout",
     "output_type": "stream",
     "text": [
      "['کابل', 'KBL', '۳', '6', '۶', '8', '۸', '8', '۸', '۸', '8', '۶', '۹', '9', 'PRV', 'ش']\n"
     ]
    }
   ],
   "source": [
    "final = []\n",
    "\n",
    "# Sort the boxes by their leftmost x-coordinate (from left to right)\n",
    "sorted_boxes = sorted(result.boxes, key=lambda box: box.xyxy[0, 0].item())\n",
    "\n",
    "# Iterate through the sorted boxes\n",
    "for box in sorted_boxes:\n",
    "    class_id = result.names[box.cls[0].item()]  # Get the class label\n",
    "    cords = box.xyxy[0].tolist()  # Get bounding box coordinates\n",
    "    cords = [round(x) for x in cords]  # Round coordinates to integers\n",
    "    final.append(class_id)  # Append the class label to the final list\n",
    "\n",
    "translated_final = [translate_class_label(label) for label in final]\n",
    "\n",
    "print(translated_final)\n"
   ]
  },
  {
   "cell_type": "code",
   "execution_count": 26,
   "id": "5d2c740b-3833-4822-b3e2-c91a158ba81c",
   "metadata": {},
   "outputs": [],
   "source": [
    "def remove_specific_classes(final_list):\n",
    "    classes_to_remove = {\n",
    "        '1', '2', '3', '4', '5', '6', '7', '8', '9', 'B', 'BLH', 'DUPL', 'GZN', 'HRT', 'KBL', 'L', 'NGR', 'PRV', 'T'\n",
    "    }\n",
    "\n",
    "    # Use a list comprehension to filter out classes not in the 'classes_to_remove' set\n",
    "    filtered_final = [item for item in final_list if item not in classes_to_remove]\n",
    "\n",
    "    # Check if the filtered list has more than 7 items\n",
    "    if len(filtered_final) > 7:\n",
    "        # Remove the second item (index 1) from the filtered list\n",
    "        del filtered_final[1]\n",
    "\n",
    "    return filtered_final"
   ]
  },
  {
   "cell_type": "code",
   "execution_count": 27,
   "id": "b5905df8-d45c-4d19-b99e-6d7f2eb661d7",
   "metadata": {},
   "outputs": [
    {
     "name": "stdout",
     "output_type": "stream",
     "text": [
      "['کابل', '۶', '۸', '۸', '۸', '۶', '۹', 'ش']\n",
      "کابل۳۶۸۸۸۶۹ش\n"
     ]
    }
   ],
   "source": [
    "translated_final = [translate_class_label(label) for label in final]\n",
    "filtered_final = remove_specific_classes(translated_final)\n",
    "print(filtered_final)\n",
    "\n",
    "clean = ''\n",
    "for i in translated_final:\n",
    "    clean += i\n",
    "\n",
    "pattern = r'[A-Za-z0-9]'\n",
    "\n",
    "# Use re.sub to replace the matched pattern with an empty string\n",
    "cleaned_string = re.sub(pattern, '', clean)\n",
    "\n",
    "# Check if the filtered list has more than 7 items\n",
    "if len(cleaned_string) >= 8:\n",
    "    # Remove the second character (index 1) from the cleaned string\n",
    "    cleaned_string = re.sub(pattern, '', cleaned_string, count=1)\n",
    "\n",
    "print(cleaned_string)"
   ]
  },
  {
   "cell_type": "code",
   "execution_count": 28,
   "id": "5e2a7837-b0b5-4085-9b09-f6dc25e553fb",
   "metadata": {},
   "outputs": [
    {
     "name": "stdout",
     "output_type": "stream",
     "text": [
      "کابل۶۸۸۸۶۹ش\n"
     ]
    }
   ],
   "source": [
    "clean = ''\n",
    "for i in filtered_final:\n",
    "    clean += i\n",
    "print(clean)\n"
   ]
  },
  {
   "cell_type": "markdown",
   "id": "78df85ae-c799-4923-9d75-e85d094613b7",
   "metadata": {},
   "source": [
    "# English"
   ]
  },
  {
   "cell_type": "code",
   "execution_count": 29,
   "id": "2010ed78-67b2-45bf-8a88-161cadf7ee1b",
   "metadata": {},
   "outputs": [
    {
     "name": "stdout",
     "output_type": "stream",
     "text": [
      "\n",
      "image 1/1 C:\\Users\\Rauf\\Desktop\\Project\\Train\\YOLO\\11.jpg: 320x640 1 6, 3 8s, 1 9, 1 KBL, 1 PRV, 3 eights, 1 kabul, 1 nine, 1 shin, 2 sixs, 1 three, 659.4ms\n",
      "Speed: 3.7ms preprocess, 659.4ms inference, 6.3ms postprocess per image at shape (1, 3, 320, 640)\n"
     ]
    }
   ],
   "source": [
    "from ultralytics import YOLO\n",
    "\n",
    "# Load a pretrained YOLOv8n-seg Segment model\n",
    "model = YOLO('model/CNN.pt')\n",
    "\n",
    "# Run inference on an image\n",
    "ENresults = model.predict(\"11.jpg\")\n"
   ]
  },
  {
   "cell_type": "code",
   "execution_count": 32,
   "id": "285f69e6-9691-454e-bf20-a6aa86e978c7",
   "metadata": {},
   "outputs": [
    {
     "data": {
      "text/plain": [
       "16"
      ]
     },
     "execution_count": 32,
     "metadata": {},
     "output_type": "execute_result"
    }
   ],
   "source": [
    "len(ENresult.boxes)"
   ]
  },
  {
   "cell_type": "code",
   "execution_count": 33,
   "id": "ed9acf45-f431-4b45-9bda-8448fc7fdb54",
   "metadata": {},
   "outputs": [
    {
     "name": "stdout",
     "output_type": "stream",
     "text": [
      "['کابل', 'KBL', '۳', '6', '۶', '8', '۸', '8', '۸', '۸', '8', '۶', '۹', '9', 'PRV', 'ش']\n"
     ]
    }
   ],
   "source": [
    "En_final = []\n",
    "\n",
    "# Sort the boxes by their leftmost x-coordinate (from left to right)\n",
    "sorted_boxes = sorted(ENresult.boxes, key=lambda box: box.xyxy[0, 0].item())\n",
    "\n",
    "# Iterate through the sorted boxes\n",
    "for box in sorted_boxes:\n",
    "    class_id = result.names[box.cls[0].item()]  # Get the class label\n",
    "    cords = box.xyxy[0].tolist()  # Get bounding box coordinates\n",
    "    cords = [round(x) for x in cords]  # Round coordinates to integers\n",
    "    En_final.append(class_id)  # Append the class label to the final list\n",
    "\n",
    "translated_final_EN = [translate_class_label(label) for label in En_final]\n",
    "\n",
    "print(translated_final_EN)\n"
   ]
  },
  {
   "cell_type": "code",
   "execution_count": 34,
   "id": "56faf9dd-cdc3-4c3c-9cc4-8b9f7d04b948",
   "metadata": {},
   "outputs": [],
   "source": [
    "translated_final_EN = [translate_class_label(label) for label in En_final]\n"
   ]
  },
  {
   "cell_type": "code",
   "execution_count": 35,
   "id": "90b73fe6-9203-4956-9648-11965f40d8e1",
   "metadata": {},
   "outputs": [
    {
     "name": "stdout",
     "output_type": "stream",
     "text": [
      "کابل۶۸۸۸۶۹ش\n"
     ]
    }
   ],
   "source": [
    "clean = ''\n",
    "for i in filtered_final:\n",
    "    clean += i\n",
    "print(clean)\n"
   ]
  },
  {
   "cell_type": "code",
   "execution_count": 36,
   "id": "370527e1-f703-4752-905c-70d7520481f6",
   "metadata": {},
   "outputs": [
    {
     "name": "stdout",
     "output_type": "stream",
     "text": [
      "کابل۶۸۸۸۶۹ش\n"
     ]
    }
   ],
   "source": [
    "import re\n",
    "\n",
    "# Input string\n",
    "\n",
    "# Define a regular expression pattern to match Latin characters and numerals\n",
    "pattern = r'[A-Za-z0-9]'\n",
    "\n",
    "# Use re.sub to replace the matched pattern with an empty string\n",
    "cleaned_string = re.sub(pattern, '', clean)\n",
    "\n",
    "print(cleaned_string)\n"
   ]
  },
  {
   "cell_type": "code",
   "execution_count": 39,
   "id": "d7ff291c-e480-4ffb-8004-0a936ff9d1f6",
   "metadata": {},
   "outputs": [
    {
     "name": "stdout",
     "output_type": "stream",
     "text": [
      "\n"
     ]
    }
   ],
   "source": [
    "\n",
    "# Define a regular expression pattern to match Persian (Farsi) characters\n",
    "pattern = r'[آ-ی-۱-۹]'\n",
    "\n",
    "# Use re.sub to replace the matched pattern with an empty string\n",
    "cleaned_string = re.sub(pattern, '', clean)\n",
    "\n",
    "print(cleaned_string)\n"
   ]
  },
  {
   "cell_type": "code",
   "execution_count": null,
   "id": "4cbe2340-ce96-4970-9110-5d8e0e104f26",
   "metadata": {},
   "outputs": [],
   "source": []
  },
  {
   "cell_type": "code",
   "execution_count": null,
   "id": "e54c1546-ef74-4644-89a1-d94bff487f64",
   "metadata": {},
   "outputs": [],
   "source": []
  }
 ],
 "metadata": {
  "kernelspec": {
   "display_name": "Python 3 (ipykernel)",
   "language": "python",
   "name": "python3"
  },
  "language_info": {
   "codemirror_mode": {
    "name": "ipython",
    "version": 3
   },
   "file_extension": ".py",
   "mimetype": "text/x-python",
   "name": "python",
   "nbconvert_exporter": "python",
   "pygments_lexer": "ipython3",
   "version": "3.9.0"
  }
 },
 "nbformat": 4,
 "nbformat_minor": 5
}
